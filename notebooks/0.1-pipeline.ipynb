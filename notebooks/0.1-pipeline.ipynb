{
 "cells": [
  {
   "cell_type": "code",
   "execution_count": 3,
   "metadata": {},
   "outputs": [],
   "source": [
    "import os\n",
    "import sys\n",
    "from pathlib import Path\n",
    "#sys.path[0] = str(Path(__file__).resolve().parents[2]) # Set path for custom modules\n",
    "#import warnings\n",
    "#from io import StringIO\n",
    "\n",
    "# Set path for modules\n",
    "sys.path[0] = '../'\n",
    "\n",
    "#from dotenv import load_dotenv, find_dotenv\n",
    "#import numpy as np\n",
    "import pandas as pd\n",
    "\n",
    "# SQL libraries\n",
    "import psycopg2\n",
    "from src.pipeline.dictionaries import types_dict, replace_map\n",
    "from src.pipeline.transform_data import create_full_address, split_lat_long\n",
    "from src.toolkits.geospatial import geocode_from_address\n",
    "from src.toolkits.postgresql import Database, Table\n",
    "from src.toolkits.eda import explore_value_counts\n",
    "\n",
    "# Set notebook display options\n",
    "pd.set_option('display.max_rows', 2000)\n",
    "pd.set_option('display.max_columns', None)\n",
    "pd.set_option('display.width', None)\n",
    "\n",
    "# if modulename not in sys.modules: print...\n",
    "#load_dotenv(find_dotenv());"
   ]
  },
  {
   "cell_type": "code",
   "execution_count": 4,
   "metadata": {},
   "outputs": [
    {
     "data": {
      "text/plain": [
       "['permits_raw']"
      ]
     },
     "execution_count": 4,
     "metadata": {},
     "output_type": "execute_result"
    }
   ],
   "source": [
    "permits = Database()\n",
    "permits.list_tables()"
   ]
  },
  {
   "cell_type": "code",
   "execution_count": 5,
   "metadata": {},
   "outputs": [],
   "source": [
    "#params = {\"table_name\":\"permits_raw\", \"types_dict\":types_dict_abbrev, \"id_col\":\"pcis_permit_no\"}\n",
    "#permits.drop_table('permits_raw').drop_table('tmp_permits_raw').create_table(**params)\n",
    "#!cd ../ && bash scripts/load_db.sh"
   ]
  },
  {
   "cell_type": "code",
   "execution_count": 7,
   "metadata": {},
   "outputs": [
    {
     "name": "stdout",
     "output_type": "stream",
     "text": [
      "Updated names in \"permits_raw\".\n",
      "Updated types in \"permits_raw\".\n",
      "Cost for geocoding 19 addresses is $0.10.\n",
      "Geocoding...\n",
      "19 locations were assigned coordinates.\n",
      "Added new columns to \"permits_raw\":\n",
      "['latitude', 'full_address', 'longitude']\n",
      "Updated types in \"permits_raw\".\n",
      "Created temporary table \"tmp_permits_raw\".\n",
      "Dataframe columns do not match table \"permits_raw\".\n",
      "Rearranged dataframe columns to match \"permits_raw\".\n",
      "Copy successful on table \"permits_raw\".\n",
      "Updated values in \"permits_raw\".\n"
     ]
    }
   ],
   "source": [
    "permits_raw = Table(name=\"permits_raw\", id_col=\"pcis_permit_no\")\n",
    "permits_raw.format_table_names(replace_map=replace_map, update=True)\n",
    "permits_raw.update_types(types_dict)\n",
    "data = permits_raw.fetch_data()\n",
    "data = create_full_address(data)\n",
    "geocode_from_address(data); # Updates dataframe in place\n",
    "data = split_lat_long(data)\n",
    "permits_raw.update_values(data=data, id_col=\"pcis_permit_no\", types_dict=types_dict)"
   ]
  },
  {
   "cell_type": "code",
   "execution_count": null,
   "metadata": {},
   "outputs": [],
   "source": []
  },
  {
   "cell_type": "code",
   "execution_count": null,
   "metadata": {},
   "outputs": [],
   "source": []
  },
  {
   "cell_type": "code",
   "execution_count": null,
   "metadata": {},
   "outputs": [],
   "source": []
  },
  {
   "cell_type": "code",
   "execution_count": null,
   "metadata": {},
   "outputs": [],
   "source": []
  },
  {
   "cell_type": "code",
   "execution_count": null,
   "metadata": {},
   "outputs": [],
   "source": []
  }
 ],
 "metadata": {
  "kernelspec": {
   "display_name": "Python 3",
   "language": "python",
   "name": "python3"
  },
  "language_info": {
   "codemirror_mode": {
    "name": "ipython",
    "version": 3
   },
   "file_extension": ".py",
   "mimetype": "text/x-python",
   "name": "python",
   "nbconvert_exporter": "python",
   "pygments_lexer": "ipython3",
   "version": "3.7.6"
  }
 },
 "nbformat": 4,
 "nbformat_minor": 4
}
