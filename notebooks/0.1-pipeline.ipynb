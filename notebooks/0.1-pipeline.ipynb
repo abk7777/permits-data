{
 "cells": [
  {
   "cell_type": "markdown",
   "metadata": {},
   "source": [
    "# permits-data / ETL Pipeline\n",
    "\n",
    "A simple ETL pipeline for construction permits data from the [Los Angeles Open Data Portal](https://data.lacity.org/) using bash, Python, Docker and PostgreSQL. Includes a basic [Object-Relational Mapper](https://en.wikipedia.org/wiki/Object-relational_mapping) (ORM) for PostgreSQL using `psycopg2` and a notebook that outlines the steps in the pipeline. \n",
    "\n",
    "### Background\n",
    "Cited from [Building and Safety Permit Information](https://data.lacity.org/A-Prosperous-City/Building-and-Safety-Permit-Information-Old/yv23-pmwf):<br>\n",
    ">\"*The Department of Building and Safety issues permits for the construction, remodeling, and repair of buildings and structures in the City of Los Angeles. Permits are categorized into building permits, electrical permits, and mechanical permits*\"\n",
    "\n",
    "The raw permits data available from the [Los Angeles Open Data Portal](https://data.lacity.org/) contains missing latitude and longitude coordinates for some properties. The pipeline in this notebook geocodes the missing coordinates and updates a local database using a basic ORM for PostgreSQL.\n",
    "\n",
    "### Prerequisites\n",
    "\n",
    "1) [Anaconda](https://docs.anaconda.com/anaconda/install/)<br>\n",
    "2) [Docker](https://docs.docker.com/get-docker/)<br>\n",
    "3) [API key for Google Maps](https://developers.google.com/maps/documentation/geocoding/get-api-key). It may be necessary to set up a developer account. Note that geocoding incurs a charge of 0.005 USD per request, although Google does give an intial 300 USD credit.<br>\n",
    "4) Make sure the `.env` file is present. Refer to the README for instructions on this.\n",
    "\n",
    "5) Before starting Jupyter Notebook, the Anaconda environment must be activated:\n",
    "  ```zsh\n",
    "  make create_env\n",
    "  conda activate permits_pipeline_env\n",
    "  ```\n",
    "6) Populate the .env environment variables by running:\n",
    "  ```bash\n",
    "  set -o allexport; source .env; set +o allexport;\n",
    "  ```\n",
    "  \n",
    "### Instructions\n",
    "Run the command `make load_db` to automatically download contruction permits data and load into a PostgreSQL database in Docker, then run this notebook to transform columns and geocode missing addresses. "
   ]
  },
  {
   "cell_type": "markdown",
   "metadata": {},
   "source": [
    "## Setup"
   ]
  },
  {
   "cell_type": "code",
   "execution_count": 1,
   "metadata": {},
   "outputs": [],
   "source": [
    "import os\n",
    "import sys\n",
    "# Set path for modules\n",
    "sys.path[0] = '../'\n",
    "\n",
    "import pandas as pd\n",
    "import psycopg2\n",
    "\n",
    "from src.pipeline.dictionaries import types_dict, replace_map\n",
    "from src.pipeline.transform_data import create_full_address, split_lat_long\n",
    "from src.toolkits.geospatial import geocode_from_address\n",
    "from src.toolkits.postgresql import Database, Table\n",
    "from src.toolkits.eda import explore_value_counts\n",
    "\n",
    "# Set notebook display options\n",
    "pd.set_option('display.max_rows', 2000)\n",
    "pd.set_option('display.max_columns', None)\n",
    "pd.set_option('display.width', None)"
   ]
  },
  {
   "cell_type": "markdown",
   "metadata": {},
   "source": [
    "### Connect to PostgreSQL\n",
    "\n",
    "Connection parameters are accessed from the .env file in the root directory, or they can be passed to the *Database( )* class."
   ]
  },
  {
   "cell_type": "code",
   "execution_count": 2,
   "metadata": {},
   "outputs": [
    {
     "data": {
      "text/plain": [
       "['permits_raw']"
      ]
     },
     "execution_count": 2,
     "metadata": {},
     "output_type": "execute_result"
    }
   ],
   "source": [
    "# Create instance of database\n",
    "permits = Database()\n",
    "\n",
    "# List tables\n",
    "permits.list_tables()"
   ]
  },
  {
   "cell_type": "code",
   "execution_count": 3,
   "metadata": {},
   "outputs": [],
   "source": [
    "# Drops and rewrites table for testing purposes; allows restarting kernel\n",
    "#params = {\"table_name\":\"permits_raw\", \"types_dict\":types_dict_abbrev, \"id_col\":\"pcis_permit_no\"}\n",
    "#permits.drop_table('permits_raw').drop_table('tmp_permits_raw').create_table(**params)\n",
    "#!cd ../ && bash scripts/load_db.sh"
   ]
  },
  {
   "cell_type": "markdown",
   "metadata": {},
   "source": [
    "### Update Table Column Names & Types"
   ]
  },
  {
   "cell_type": "code",
   "execution_count": 4,
   "metadata": {},
   "outputs": [],
   "source": [
    "# Creates instance of table\n",
    "permits_raw = Table(name=\"permits_raw\", id_col=\"pcis_permit_no\")"
   ]
  },
  {
   "cell_type": "code",
   "execution_count": 5,
   "metadata": {},
   "outputs": [
    {
     "name": "stdout",
     "output_type": "stream",
     "text": [
      "Updated names in \"permits_raw\".\n",
      "Updated types in \"permits_raw\".\n"
     ]
    }
   ],
   "source": [
    "# Update column names\n",
    "permits_raw.format_table_names(replace_map=replace_map, update=True)\n",
    "\n",
    "# Update column types\n",
    "permits_raw.update_types(types_dict)"
   ]
  },
  {
   "cell_type": "markdown",
   "metadata": {},
   "source": [
    "## Extract\n",
    "\n",
    "Pulls data from Docker PostgreSQL into Pandas dataframe."
   ]
  },
  {
   "cell_type": "code",
   "execution_count": 6,
   "metadata": {},
   "outputs": [],
   "source": [
    "# Fetch data\n",
    "data = permits_raw.fetch_data()"
   ]
  },
  {
   "cell_type": "markdown",
   "metadata": {},
   "source": [
    "## Transform\n",
    "\n",
    "Transformations applied:\n",
    "* All address columns are concatenated into one single column: *full_address*\n",
    "* The *full_address* column is used as input to the *geocode_from_address( )* function to find missing GPS coordinates"
   ]
  },
  {
   "cell_type": "code",
   "execution_count": 7,
   "metadata": {},
   "outputs": [
    {
     "name": "stdout",
     "output_type": "stream",
     "text": [
      "Cost for geocoding 42 addresses is $0.21.\n",
      "Geocoding...\n",
      "42 locations were assigned coordinates.\n"
     ]
    }
   ],
   "source": [
    "# Transform columns: concatenate all address columns to create full_address\n",
    "data = create_full_address(data)\n",
    "\n",
    "# Geocoding missing GPS coordinates\n",
    "geocode_from_address(data); # Updates dataframe in place\n",
    "data = split_lat_long(data)"
   ]
  },
  {
   "cell_type": "markdown",
   "metadata": {},
   "source": [
    "## Load\n",
    "\n",
    "Reloads data into Docker PostgreSQL."
   ]
  },
  {
   "cell_type": "code",
   "execution_count": 8,
   "metadata": {},
   "outputs": [
    {
     "name": "stdout",
     "output_type": "stream",
     "text": [
      "Added new columns to \"permits_raw\":\n",
      "['full_address', 'longitude', 'latitude']\n",
      "Updated types in \"permits_raw\".\n",
      "Created temporary table \"tmp_permits_raw\".\n",
      "Dataframe columns do not match table \"permits_raw\".\n",
      "Rearranged dataframe columns to match \"permits_raw\".\n",
      "Copy successful on table \"permits_raw\".\n",
      "Updated values in \"permits_raw\".\n"
     ]
    }
   ],
   "source": [
    "# Update database with new values\n",
    "permits_raw.update_values(data=data, id_col=\"pcis_permit_no\", types_dict=types_dict, \n",
    "                          columns=['full_address', 'latitude', 'longitude'])"
   ]
  },
  {
   "cell_type": "markdown",
   "metadata": {},
   "source": [
    "#### Check transformations:"
   ]
  },
  {
   "cell_type": "code",
   "execution_count": 9,
   "metadata": {},
   "outputs": [
    {
     "name": "stderr",
     "output_type": "stream",
     "text": [
      "../src/toolkits/postgresql.py:365: UserWarning: Dataframe dtypes may be incorrect.\n",
      "  warnings.warn('Dataframe dtypes may be incorrect.')\n"
     ]
    },
    {
     "data": {
      "text/html": [
       "<div>\n",
       "<style scoped>\n",
       "    .dataframe tbody tr th:only-of-type {\n",
       "        vertical-align: middle;\n",
       "    }\n",
       "\n",
       "    .dataframe tbody tr th {\n",
       "        vertical-align: top;\n",
       "    }\n",
       "\n",
       "    .dataframe thead th {\n",
       "        text-align: right;\n",
       "    }\n",
       "</style>\n",
       "<table border=\"1\" class=\"dataframe\">\n",
       "  <thead>\n",
       "    <tr style=\"text-align: right;\">\n",
       "      <th></th>\n",
       "      <th>full_address</th>\n",
       "      <th>latitude</th>\n",
       "      <th>longitude</th>\n",
       "    </tr>\n",
       "  </thead>\n",
       "  <tbody>\n",
       "    <tr>\n",
       "      <th>0</th>\n",
       "      <td>1999 S AVENUE OF THE STARS  90067</td>\n",
       "      <td>34.05886</td>\n",
       "      <td>-118.41642</td>\n",
       "    </tr>\n",
       "    <tr>\n",
       "      <th>1</th>\n",
       "      <td>10817 W HUSTON ST 91601</td>\n",
       "      <td>34.16004</td>\n",
       "      <td>-118.36635</td>\n",
       "    </tr>\n",
       "    <tr>\n",
       "      <th>2</th>\n",
       "      <td>10910 W WALNUT DR 91040</td>\n",
       "      <td>34.25029</td>\n",
       "      <td>-118.36814</td>\n",
       "    </tr>\n",
       "    <tr>\n",
       "      <th>3</th>\n",
       "      <td>1440 GAMBLE AVE 90744</td>\n",
       "      <td>33.794012</td>\n",
       "      <td>-118.2435141</td>\n",
       "    </tr>\n",
       "    <tr>\n",
       "      <th>4</th>\n",
       "      <td>3554 S SAWTELLE BLVD 90066</td>\n",
       "      <td>34.01545</td>\n",
       "      <td>-118.42271</td>\n",
       "    </tr>\n",
       "    <tr>\n",
       "      <th>5</th>\n",
       "      <td>8838 N SWINTON AVE 91343</td>\n",
       "      <td>34.23139</td>\n",
       "      <td>-118.48606</td>\n",
       "    </tr>\n",
       "    <tr>\n",
       "      <th>6</th>\n",
       "      <td>12514 W OXNARD ST 91607</td>\n",
       "      <td>34.17926</td>\n",
       "      <td>-118.40576</td>\n",
       "    </tr>\n",
       "    <tr>\n",
       "      <th>7</th>\n",
       "      <td>1453 W 56TH ST 90062</td>\n",
       "      <td>33.99157</td>\n",
       "      <td>-118.30207</td>\n",
       "    </tr>\n",
       "    <tr>\n",
       "      <th>8</th>\n",
       "      <td>555 S GAYLEY AVE 90024</td>\n",
       "      <td>34.06886</td>\n",
       "      <td>-118.44989</td>\n",
       "    </tr>\n",
       "    <tr>\n",
       "      <th>9</th>\n",
       "      <td>10944 W VENTURA BLVD 91604</td>\n",
       "      <td>34.13979</td>\n",
       "      <td>-118.36893</td>\n",
       "    </tr>\n",
       "  </tbody>\n",
       "</table>\n",
       "</div>"
      ],
      "text/plain": [
       "                        full_address   latitude     longitude\n",
       "0  1999 S AVENUE OF THE STARS  90067   34.05886    -118.41642\n",
       "1            10817 W HUSTON ST 91601   34.16004    -118.36635\n",
       "2            10910 W WALNUT DR 91040   34.25029    -118.36814\n",
       "3              1440 GAMBLE AVE 90744  33.794012  -118.2435141\n",
       "4         3554 S SAWTELLE BLVD 90066   34.01545    -118.42271\n",
       "5           8838 N SWINTON AVE 91343   34.23139    -118.48606\n",
       "6            12514 W OXNARD ST 91607   34.17926    -118.40576\n",
       "7               1453 W 56TH ST 90062   33.99157    -118.30207\n",
       "8             555 S GAYLEY AVE 90024   34.06886    -118.44989\n",
       "9         10944 W VENTURA BLVD 91604   34.13979    -118.36893"
      ]
     },
     "execution_count": 9,
     "metadata": {},
     "output_type": "execute_result"
    }
   ],
   "source": [
    "# Using ORM\n",
    "permits_raw.fetch_data(sql=\"SELECT full_address, latitude, longitude FROM permits_raw LIMIT 10;\")"
   ]
  },
  {
   "cell_type": "code",
   "execution_count": 10,
   "metadata": {},
   "outputs": [
    {
     "name": "stdout",
     "output_type": "stream",
     "text": [
      "           full_address            | latitude  |  longitude   \r\n",
      "-----------------------------------+-----------+--------------\r\n",
      " 1999 S AVENUE OF THE STARS  90067 |  34.05886 |   -118.41642\r\n",
      " 10817 W HUSTON ST 91601           |  34.16004 |   -118.36635\r\n",
      " 10910 W WALNUT DR 91040           |  34.25029 |   -118.36814\r\n",
      " 1440 GAMBLE AVE 90744             | 33.794012 | -118.2435141\r\n",
      " 3554 S SAWTELLE BLVD 90066        |  34.01545 |   -118.42271\r\n",
      " 8838 N SWINTON AVE 91343          |  34.23139 |   -118.48606\r\n",
      " 12514 W OXNARD ST 91607           |  34.17926 |   -118.40576\r\n",
      " 1453 W 56TH ST 90062              |  33.99157 |   -118.30207\r\n",
      " 555 S GAYLEY AVE 90024            |  34.06886 |   -118.44989\r\n",
      " 10944 W VENTURA BLVD 91604        |  34.13979 |   -118.36893\r\n",
      "(10 rows)\r\n",
      "\r\n"
     ]
    }
   ],
   "source": [
    "# Access psql running in Docker to run query\n",
    "!docker exec -i postgres_db psql -h localhost -U postgres -p 5432 \\\n",
    "permits -c 'SELECT full_address, latitude, longitude FROM permits_raw LIMIT 10;'"
   ]
  }
 ],
 "metadata": {
  "kernelspec": {
   "display_name": "Python 3",
   "language": "python",
   "name": "python3"
  },
  "language_info": {
   "codemirror_mode": {
    "name": "ipython",
    "version": 3
   },
   "file_extension": ".py",
   "mimetype": "text/x-python",
   "name": "python",
   "nbconvert_exporter": "python",
   "pygments_lexer": "ipython3",
   "version": "3.7.6"
  }
 },
 "nbformat": 4,
 "nbformat_minor": 4
}
