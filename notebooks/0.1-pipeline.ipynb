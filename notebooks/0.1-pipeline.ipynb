{
 "cells": [
  {
   "cell_type": "markdown",
   "metadata": {},
   "source": [
    "# permits-data / ETL Pipeline\n",
    "\n",
    "This notebook outlines a pipeline to extract, transform and load construction permits data stored in a PostgreSQL database running in a Docker container. \n",
    "\n",
    "**Background**\n"
   ]
  },
  {
   "cell_type": "code",
   "execution_count": 5,
   "metadata": {},
   "outputs": [
    {
     "ename": "ModuleNotFoundError",
     "evalue": "No module named 'src'",
     "output_type": "error",
     "traceback": [
      "\u001b[0;31m---------------------------------------------------------------------------\u001b[0m",
      "\u001b[0;31mModuleNotFoundError\u001b[0m                       Traceback (most recent call last)",
      "\u001b[0;32m<ipython-input-5-bb86ac3a681c>\u001b[0m in \u001b[0;36m<module>\u001b[0;34m()\u001b[0m\n\u001b[1;32m      3\u001b[0m \u001b[0;32mimport\u001b[0m \u001b[0mpandas\u001b[0m \u001b[0;32mas\u001b[0m \u001b[0mpd\u001b[0m\u001b[0;34m\u001b[0m\u001b[0;34m\u001b[0m\u001b[0m\n\u001b[1;32m      4\u001b[0m \u001b[0;32mimport\u001b[0m \u001b[0mpsycopg2\u001b[0m\u001b[0;34m\u001b[0m\u001b[0;34m\u001b[0m\u001b[0m\n\u001b[0;32m----> 5\u001b[0;31m \u001b[0;32mfrom\u001b[0m \u001b[0msrc\u001b[0m\u001b[0;34m.\u001b[0m\u001b[0mpipeline\u001b[0m\u001b[0;34m.\u001b[0m\u001b[0mdictionaries\u001b[0m \u001b[0;32mimport\u001b[0m \u001b[0mtypes_dict\u001b[0m\u001b[0;34m,\u001b[0m \u001b[0mreplace_map\u001b[0m\u001b[0;34m\u001b[0m\u001b[0;34m\u001b[0m\u001b[0m\n\u001b[0m\u001b[1;32m      6\u001b[0m \u001b[0;32mfrom\u001b[0m \u001b[0msrc\u001b[0m\u001b[0;34m.\u001b[0m\u001b[0mpipeline\u001b[0m\u001b[0;34m.\u001b[0m\u001b[0mtransform_data\u001b[0m \u001b[0;32mimport\u001b[0m \u001b[0mcreate_full_address\u001b[0m\u001b[0;34m,\u001b[0m \u001b[0msplit_lat_long\u001b[0m\u001b[0;34m\u001b[0m\u001b[0;34m\u001b[0m\u001b[0m\n\u001b[1;32m      7\u001b[0m \u001b[0;32mfrom\u001b[0m \u001b[0msrc\u001b[0m\u001b[0;34m.\u001b[0m\u001b[0mtoolkits\u001b[0m\u001b[0;34m.\u001b[0m\u001b[0mgeospatial\u001b[0m \u001b[0;32mimport\u001b[0m \u001b[0mgeocode_from_address\u001b[0m\u001b[0;34m\u001b[0m\u001b[0;34m\u001b[0m\u001b[0m\n",
      "\u001b[0;31mModuleNotFoundError\u001b[0m: No module named 'src'"
     ]
    }
   ],
   "source": [
    "import os\n",
    "import sys\n",
    "import pandas as pd\n",
    "import psycopg2\n",
    "from src.pipeline.dictionaries import types_dict, replace_map\n",
    "from src.pipeline.transform_data import create_full_address, split_lat_long\n",
    "from src.toolkits.geospatial import geocode_from_address\n",
    "from src.toolkits.postgresql import Database, Table\n",
    "from src.toolkits.eda import explore_value_counts\n",
    "\n",
    "# Set path for modules\n",
    "sys.path[0] = '../'\n",
    "\n",
    "# Set notebook display options\n",
    "pd.set_option('display.max_rows', 2000)\n",
    "pd.set_option('display.max_columns', None)\n",
    "pd.set_option('display.width', None)"
   ]
  },
  {
   "cell_type": "code",
   "execution_count": 4,
   "metadata": {},
   "outputs": [
    {
     "data": {
      "text/plain": [
       "''"
      ]
     },
     "execution_count": 4,
     "metadata": {},
     "output_type": "execute_result"
    }
   ],
   "source": [
    "sys.path[0]"
   ]
  },
  {
   "cell_type": "code",
   "execution_count": null,
   "metadata": {},
   "outputs": [],
   "source": [
    "permits = Database()\n",
    "permits.list_tables()"
   ]
  },
  {
   "cell_type": "code",
   "execution_count": 3,
   "metadata": {},
   "outputs": [],
   "source": [
    "#params = {\"table_name\":\"permits_raw\", \"types_dict\":types_dict_abbrev, \"id_col\":\"pcis_permit_no\"}\n",
    "#permits.drop_table('permits_raw').drop_table('tmp_permits_raw').create_table(**params)\n",
    "#!cd ../ && bash scripts/load_db.sh"
   ]
  },
  {
   "cell_type": "code",
   "execution_count": 4,
   "metadata": {},
   "outputs": [
    {
     "name": "stdout",
     "output_type": "stream",
     "text": [
      "Updated names in \"permits_raw\".\n",
      "Updated types in \"permits_raw\".\n",
      "Cost for geocoding 19 addresses is $0.10.\n",
      "Geocoding...\n",
      "19 locations were assigned coordinates.\n",
      "Added new columns to \"permits_raw\":\n",
      "['full_address', 'latitude', 'longitude']\n",
      "Updated types in \"permits_raw\".\n",
      "Created temporary table \"tmp_permits_raw\".\n",
      "Dataframe columns already match table \"permits_raw\".\n",
      "Rearranged dataframe columns to match \"permits_raw\".\n",
      "Copy successful on table \"permits_raw\".\n",
      "Updated values in \"permits_raw\".\n"
     ]
    }
   ],
   "source": [
    "permits_raw = Table(name=\"permits_raw\", id_col=\"pcis_permit_no\")\n",
    "permits_raw.format_table_names(replace_map=replace_map, update=True)\n",
    "permits_raw.update_types(types_dict)\n",
    "data = permits_raw.fetch_data()\n",
    "data = create_full_address(data)\n",
    "geocode_from_address(data); # Updates dataframe in place\n",
    "data = split_lat_long(data)\n",
    "permits_raw.update_values(data=data, id_col=\"pcis_permit_no\", types_dict=types_dict, \n",
    "                          columns=['full_address', 'latitude', 'longitude'])"
   ]
  },
  {
   "cell_type": "code",
   "execution_count": null,
   "metadata": {},
   "outputs": [],
   "source": []
  },
  {
   "cell_type": "code",
   "execution_count": null,
   "metadata": {},
   "outputs": [],
   "source": []
  },
  {
   "cell_type": "code",
   "execution_count": null,
   "metadata": {},
   "outputs": [],
   "source": []
  },
  {
   "cell_type": "code",
   "execution_count": null,
   "metadata": {},
   "outputs": [],
   "source": []
  },
  {
   "cell_type": "code",
   "execution_count": null,
   "metadata": {},
   "outputs": [],
   "source": []
  }
 ],
 "metadata": {
  "kernelspec": {
   "display_name": "Python 3",
   "language": "python",
   "name": "python3"
  },
  "language_info": {
   "codemirror_mode": {
    "name": "ipython",
    "version": 3
   },
   "file_extension": ".py",
   "mimetype": "text/x-python",
   "name": "python",
   "nbconvert_exporter": "python",
   "pygments_lexer": "ipython3",
   "version": "3.7.6"
  }
 },
 "nbformat": 4,
 "nbformat_minor": 4
}
