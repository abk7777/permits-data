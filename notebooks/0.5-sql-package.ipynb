{
 "cells": [
  {
   "cell_type": "markdown",
   "metadata": {},
   "source": [
    "# SQL Package\n",
    "\n",
    "Provides simple functionality to interact with a PostgreSQL server using Python classes.\n",
    "\n",
    "**Overview of functionality:**\n",
    "* Database(self, user, password, host, dbname, port)\n",
    "    * properties\n",
    "        * user\n",
    "        * password\n",
    "        * host\n",
    "        * dbname\n",
    "        * port\n",
    "    * methods\n",
    "        * create(name) x\n",
    "        * connect()\n",
    "        * drop(name)\n",
    "* Table(self, dbname, table, schema)\n",
    "    * accepts db properties\n",
    "    * properties\n",
    "        * connect() --> inherited\n",
    "        * fetch_data(sql, con, parse_dates)\n",
    "        * get_names()\n",
    "        * format_names(char_dict)\n",
    "        * update_names(names_dict)\n",
    "        * add_columns(columns_list, type=None)\n",
    "        * compare_column_order(dataframe)\n",
    "        * match_columns(dataframe)\n",
    "        * save_csv(data, local_path, match_column_order=True)\n",
    "        * update_values(local_path, container_path)\n",
    "        * update_types(types_dict)\n",
    "        * close()"
   ]
  },
  {
   "cell_type": "markdown",
   "metadata": {},
   "source": [
    "## Setup"
   ]
  },
  {
   "cell_type": "code",
   "execution_count": 1,
   "metadata": {},
   "outputs": [],
   "source": [
    "import os\n",
    "import sys\n",
    "from pathlib import Path\n",
    "#sys.path[0] = str(Path(__file__).resolve().parents[2]) # Set path for custom modules\n",
    "import warnings\n",
    "from io import StringIO\n",
    "\n",
    "# Set path for modules\n",
    "sys.path[0] = '../'\n",
    "\n",
    "from dotenv import load_dotenv, find_dotenv\n",
    "import numpy as np\n",
    "import pandas as pd\n",
    "\n",
    "# SQL libraries\n",
    "import psycopg2\n",
    "from src.pipeline.dictionaries import types_dict, replace_map\n",
    "from src.pipeline.transform_data import create_full_address, split_lat_long\n",
    "from src.toolkits.geospatial import geocode_from_address\n",
    "from src.toolkits.postgresql import Database, Table\n",
    "from src.toolkits.eda import explore_value_counts\n",
    "\n",
    "# Set notebook display options\n",
    "pd.set_option('display.max_rows', 2000)\n",
    "pd.set_option('display.max_columns', None)\n",
    "pd.set_option('display.width', None)\n",
    "\n",
    "# Get project root directory\n",
    "#root_dir = os.path.dirname(os.getcwd())\n",
    "\n",
    "# if modulename not in sys.modules: print...\n",
    "load_dotenv(find_dotenv());"
   ]
  },
  {
   "cell_type": "code",
   "execution_count": 2,
   "metadata": {},
   "outputs": [],
   "source": [
    "types_dict_abbrev = {'assessor_book': 'SMALLINT',\n",
    "             'assessor_page': 'SMALLINT',\n",
    "             'assessor_parcel': 'CHAR(3)',\n",
    "             'tract': 'VARCHAR(200)',\n",
    "             'block': 'VARCHAR(50)',\n",
    "             'lot': 'VARCHAR(50)',\n",
    "             'reference_no_old_permit_no': 'VARCHAR(50)',\n",
    "             'pcis_permit_no': 'VARCHAR(50)',\n",
    "             'status': 'VARCHAR(50)',\n",
    "             'status_date': 'DATE',\n",
    "             'permit_type': 'VARCHAR(50)',\n",
    "             'permit_sub_type': 'VARCHAR(50)',\n",
    "             'permit_category': 'VARCHAR(50)',\n",
    "             'project_number': 'SMALLINT',\n",
    "             'event_code': 'VARCHAR(50)',\n",
    "             'initiating_office': 'VARCHAR(50)',\n",
    "             'issue_date': 'DATE',\n",
    "             'address_start': 'INTEGER',\n",
    "             'address_fraction_start': 'CHAR(3)',\n",
    "             'address_end': 'INTEGER',\n",
    "             'address_fraction_end': 'CHAR(3)',\n",
    "             'street_direction': 'CHAR(1)',\n",
    "             'street_name': 'VARCHAR(50)',\n",
    "             'street_suffix': 'VARCHAR(10)',\n",
    "             'suffix_direction': 'VARCHAR(10)',\n",
    "             'unit_range_start': 'VARCHAR(50)',\n",
    "             'unit_range_end': 'VARCHAR(50)',\n",
    "             'zip_code': 'INTEGER',\n",
    "             'work_description': 'TEXT',\n",
    "             'valuation': 'NUMERIC',\n",
    "             'floor_area_la_zoning_code_definition': 'VARCHAR(10)',\n",
    "             'no_of_residential_dwelling_units': 'SMALLINT',\n",
    "             'no_of_accessory_dwelling_units': 'SMALLINT',\n",
    "             'no_of_stories': 'SMALLINT',\n",
    "             'contractors_business_name': 'VARCHAR(100)',\n",
    "             'contractor_address': 'VARCHAR(100)',\n",
    "             'contractor_city': 'VARCHAR(50)',\n",
    "             'contractor_state': 'CHAR(2)',\n",
    "             'license_type': 'VARCHAR(10)',\n",
    "             'license_no': 'INTEGER',\n",
    "             'principal_first_name': 'VARCHAR(50)',\n",
    "             'principal_middle_name': 'VARCHAR(50)',\n",
    "             'principal_last_name': 'VARCHAR(50)',\n",
    "             'license_expiration_date': 'DATE',\n",
    "             'applicant_first_name': 'VARCHAR(50)',\n",
    "             'applicant_last_name': 'VARCHAR(50)',\n",
    "             'applicant_business_name': 'VARCHAR(100)',\n",
    "             'applicant_address_1': 'VARCHAR(50)',\n",
    "             'applicant_address_2': 'VARCHAR(50)',\n",
    "             'applicant_address_3': 'VARCHAR(50)',\n",
    "             'zone': 'VARCHAR(50)',\n",
    "             'occupancy': 'VARCHAR(50)',\n",
    "             'floor_area_la_building_code_definition': 'VARCHAR(10)',\n",
    "             'census_tract': 'VARCHAR(10)',\n",
    "             'council_district': 'SMALLINT',\n",
    "             'latitude_longitude': 'VARCHAR(50)',\n",
    "             'applicant_relationship': 'VARCHAR(50)',\n",
    "             'existing_code': 'SMALLINT',\n",
    "             'proposed_code': 'SMALLINT'}"
   ]
  },
  {
   "cell_type": "code",
   "execution_count": 3,
   "metadata": {},
   "outputs": [],
   "source": [
    "permits = Database()"
   ]
  },
  {
   "cell_type": "code",
   "execution_count": 4,
   "metadata": {},
   "outputs": [],
   "source": [
    "#params = {\"table_name\":\"permits_raw\", \"types_dict\":types_dict_abbrev, \"id_col\":\"pcis_permit_no\"}\n",
    "#permits.drop_table('permits_raw').drop_table('tmp_permits_raw').create_table(**params)\n",
    "#!cd ../ && bash scripts/load_db.sh"
   ]
  },
  {
   "cell_type": "code",
   "execution_count": 5,
   "metadata": {},
   "outputs": [
    {
     "data": {
      "text/plain": [
       "['permits_raw']"
      ]
     },
     "execution_count": 5,
     "metadata": {},
     "output_type": "execute_result"
    }
   ],
   "source": [
    "permits.list_tables()"
   ]
  },
  {
   "cell_type": "markdown",
   "metadata": {},
   "source": [
    "### Run Pipeline\n",
    "\n",
    "1. Standardize table names.<br>\n",
    "2. Fetch raw data and transform:\n",
    "    - Concatenate address columns\n",
    "    - Geocode missing coordinates using street address\n",
    "    - Extract latitude and longitude from coordinates into their own columns\n",
    "3. Update the table with the transformed data:\n",
    "    - Add new columns to PostgreSQL table\n",
    "    - Update values"
   ]
  },
  {
   "cell_type": "code",
   "execution_count": 6,
   "metadata": {},
   "outputs": [],
   "source": [
    "permits_raw = Table(name=\"permits_raw\")"
   ]
  },
  {
   "cell_type": "markdown",
   "metadata": {},
   "source": [
    "#### Standardize table names"
   ]
  },
  {
   "cell_type": "code",
   "execution_count": 7,
   "metadata": {},
   "outputs": [
    {
     "name": "stdout",
     "output_type": "stream",
     "text": [
      "Query successful on database \"permits\".\n"
     ]
    },
    {
     "data": {
      "text/plain": [
       "<src.toolkits.postgresql.Table at 0x10f9fa9d0>"
      ]
     },
     "execution_count": 7,
     "metadata": {},
     "output_type": "execute_result"
    }
   ],
   "source": [
    "permits_raw.format_table_names(replace_map=replace_map, update=True)"
   ]
  },
  {
   "cell_type": "code",
   "execution_count": 8,
   "metadata": {
    "scrolled": false
   },
   "outputs": [
    {
     "name": "stdout",
     "output_type": "stream",
     "text": [
      "Query successful on database \"permits\".\n"
     ]
    }
   ],
   "source": [
    "permits_raw.update_types(types_dict)"
   ]
  },
  {
   "cell_type": "markdown",
   "metadata": {},
   "source": [
    "#### Fetch and Transform"
   ]
  },
  {
   "cell_type": "code",
   "execution_count": 9,
   "metadata": {},
   "outputs": [],
   "source": [
    "data = permits_raw.fetch_data()"
   ]
  },
  {
   "cell_type": "code",
   "execution_count": 10,
   "metadata": {},
   "outputs": [],
   "source": [
    "data = create_full_address(data)"
   ]
  },
  {
   "cell_type": "code",
   "execution_count": 11,
   "metadata": {
    "scrolled": false
   },
   "outputs": [
    {
     "name": "stdout",
     "output_type": "stream",
     "text": [
      "Cost for geocoding 19 addresses is $0.10.\n",
      "Geocoding...\n",
      "19 locations were assigned coordinates.\n"
     ]
    }
   ],
   "source": [
    "geocode_from_address(data);"
   ]
  },
  {
   "cell_type": "code",
   "execution_count": 12,
   "metadata": {},
   "outputs": [],
   "source": [
    "data = split_lat_long(data)"
   ]
  },
  {
   "cell_type": "markdown",
   "metadata": {},
   "source": [
    "#### Update Table"
   ]
  },
  {
   "cell_type": "code",
   "execution_count": 13,
   "metadata": {
    "scrolled": false
   },
   "outputs": [
    {
     "name": "stdout",
     "output_type": "stream",
     "text": [
      "Query successful on database \"permits\".\n",
      "Query successful on database \"permits\".\n",
      "Query successful on database \"permits\".\n",
      "Rearranged dataframe columns to match table \"permits_raw\".\n",
      "Rearranged dataframe columns to match table \"permits_raw\".\n",
      "Copy successful on table \"permits_raw\".\n",
      "Query successful on database \"permits\".\n"
     ]
    }
   ],
   "source": [
    "permits_raw.update_values(data=data, id_col=\"pcis_permit_no\", types_dict=types_dict)"
   ]
  },
  {
   "cell_type": "code",
   "execution_count": null,
   "metadata": {},
   "outputs": [],
   "source": []
  }
 ],
 "metadata": {
  "kernelspec": {
   "display_name": "Python 3",
   "language": "python",
   "name": "python3"
  },
  "language_info": {
   "codemirror_mode": {
    "name": "ipython",
    "version": 3
   },
   "file_extension": ".py",
   "mimetype": "text/x-python",
   "name": "python",
   "nbconvert_exporter": "python",
   "pygments_lexer": "ipython3",
   "version": "3.7.6"
  }
 },
 "nbformat": 4,
 "nbformat_minor": 4
}
