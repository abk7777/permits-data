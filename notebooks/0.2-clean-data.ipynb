{
 "cells": [
  {
   "cell_type": "markdown",
   "metadata": {},
   "source": []
  },
  {
   "cell_type": "code",
   "execution_count": 2,
   "metadata": {},
   "outputs": [],
   "source": [
    "import os\n",
    "import sys\n",
    "from dotenv import load_dotenv, find_dotenv\n",
    "load_dotenv(find_dotenv());\n",
    "import numpy as np\n",
    "import pandas as pd\n",
    "import psycopg2\n",
    "\n",
    "#from src.eda import ...\n",
    "#from src.sql import ..."
   ]
  },
  {
   "cell_type": "markdown",
   "metadata": {},
   "source": [
    "## 2. Clean Data"
   ]
  },
  {
   "cell_type": "code",
   "execution_count": 1,
   "metadata": {},
   "outputs": [
    {
     "ename": "NameError",
     "evalue": "name 'connect_db' is not defined",
     "output_type": "error",
     "traceback": [
      "\u001b[0;31m---------------------------------------------------------------------------\u001b[0m",
      "\u001b[0;31mNameError\u001b[0m                                 Traceback (most recent call last)",
      "\u001b[0;32m<ipython-input-1-6e0c00d06879>\u001b[0m in \u001b[0;36m<module>\u001b[0;34m\u001b[0m\n\u001b[1;32m      1\u001b[0m \u001b[0;31m# Connect to db\u001b[0m\u001b[0;34m\u001b[0m\u001b[0;34m\u001b[0m\u001b[0m\n\u001b[0;32m----> 2\u001b[0;31m \u001b[0mconn\u001b[0m \u001b[0;34m=\u001b[0m \u001b[0mconnect_db\u001b[0m\u001b[0;34m(\u001b[0m\u001b[0;34m)\u001b[0m\u001b[0;34m\u001b[0m\u001b[0m\n\u001b[0m\u001b[1;32m      3\u001b[0m \u001b[0;34m\u001b[0m\u001b[0m\n\u001b[1;32m      4\u001b[0m \u001b[0;31m# Extract partial dataset\u001b[0m\u001b[0;34m\u001b[0m\u001b[0;34m\u001b[0m\u001b[0m\n\u001b[1;32m      5\u001b[0m \u001b[0msql_all\u001b[0m \u001b[0;34m=\u001b[0m \u001b[0;34m'SELECT * FROM {} LIMIT 1500;'\u001b[0m\u001b[0;34m.\u001b[0m\u001b[0mformat\u001b[0m\u001b[0;34m(\u001b[0m\u001b[0mDB_TABLE\u001b[0m\u001b[0;34m)\u001b[0m\u001b[0;34m\u001b[0m\u001b[0m\n",
      "\u001b[0;31mNameError\u001b[0m: name 'connect_db' is not defined"
     ]
    }
   ],
   "source": [
    "# Connect to db\n",
    "conn = connect_db()\n",
    "\n",
    "# Extract partial dataset\n",
    "sql_all = 'SELECT * FROM {} LIMIT 1500;'.format(DB_TABLE)\n",
    "\n",
    "# Columns to parse as dates\n",
    "date_columns = ['status_date', 'issue_date', 'license_expiration_date']\n",
    "\n",
    "# Fetch fresh data\n",
    "data = pd.read_sql_query(sql_all, conn, parse_dates=date_columns, \n",
    "                         coerce_float=False)"
   ]
  },
  {
   "cell_type": "markdown",
   "metadata": {},
   "source": [
    "### 2.1 Missing Data"
   ]
  },
  {
   "cell_type": "markdown",
   "metadata": {},
   "source": [
    "#### Overview of Unique Values in Qualitative Data\n",
    "\n",
    "Before making decisions regarding missing values or data types, it is important to be familiar with the content of each column especially considering the permits dataset mostly contains qualitative data."
   ]
  },
  {
   "cell_type": "markdown",
   "metadata": {},
   "source": [
    "#### Summary\n",
    "* *zip_code* and *latitude_longitude* need their missing values to be inferred through geocoding.\n",
    "* *issue_date* and *license_expiration_date* should be parsed as datetime objects on import.\n",
    "* All address columns should be combined into one column containing the full address.\n",
    "* Columns will be converted to more appropriate data types such as float, integer, and category."
   ]
  },
  {
   "cell_type": "markdown",
   "metadata": {},
   "source": [
    "### 2.2 Processing Missing Data\n",
    "\n",
    "***Overview:***\n",
    "* Split *latitude_longitude* into separate columns and convert to float values: *latitude*, *longitude*<br>\n",
    "* Combine address columns into one columns: *full_address*<br>\n",
    "* Geocode missing *latitude_longitude* with *full_address*<br>\n",
    "* Geocode missing *zip_code* with complete *latitude_longitude*<br>\n",
    "* Geocode any missing *full_address* with *latitude_longitude*<br>"
   ]
  },
  {
   "cell_type": "code",
   "execution_count": null,
   "metadata": {},
   "outputs": [],
   "source": []
  }
 ],
 "metadata": {
  "kernelspec": {
   "display_name": "Python 3",
   "language": "python",
   "name": "python3"
  },
  "language_info": {
   "codemirror_mode": {
    "name": "ipython",
    "version": 3
   },
   "file_extension": ".py",
   "mimetype": "text/x-python",
   "name": "python",
   "nbconvert_exporter": "python",
   "pygments_lexer": "ipython3",
   "version": "3.5.5"
  }
 },
 "nbformat": 4,
 "nbformat_minor": 4
}
