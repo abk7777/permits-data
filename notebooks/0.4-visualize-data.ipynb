{
 "cells": [
  {
   "cell_type": "markdown",
   "metadata": {},
   "source": [
    "# permits-data / Visualization\n",
    "\n",
    "ETL pipeline for construction permits data in Los Angeles, California, USA.\n",
    "\n",
    "For more information:\n",
    "https://data.lacity.org/A-Prosperous-City/Building-and-Safety-Permit-Information/yv23-pmwf"
   ]
  },
  {
   "cell_type": "code",
   "execution_count": 6,
   "metadata": {},
   "outputs": [],
   "source": [
    "import os\n",
    "import sys\n",
    "\n",
    "# Set path for modules\n",
    "sys.path[0] = '../'\n",
    "\n",
    "from dotenv import load_dotenv, find_dotenv\n",
    "import numpy as np\n",
    "import pandas as pd\n",
    "import psycopg2\n",
    "import matplotlib.pyplot as plt\n",
    "import seaborn as sns\n",
    "\n",
    "# Import custom eda and sql functions\n",
    "from src.toolkits.eda import get_snapshot\n",
    "from src.toolkits.sql import connect_db, fetch_data\n",
    "\n",
    "# Set notebook display options\n",
    "pd.set_option('display.max_rows', 2000)\n",
    "pd.set_option('display.max_columns', None)\n",
    "pd.set_option('display.width', None)\n",
    "\n",
    "sns.set_context(\"paper\")"
   ]
  },
  {
   "cell_type": "code",
   "execution_count": 7,
   "metadata": {},
   "outputs": [],
   "source": [
    "# Get project root directory\n",
    "root_dir = os.path.dirname(os.getcwd())\n",
    "\n",
    "# Set environment variables\n",
    "load_dotenv(find_dotenv());\n",
    "POSTGRES_USER = os.getenv(\"POSTGRES_USER\")\n",
    "POSTGRES_PASSWORD = os.getenv(\"POSTGRES_PASSWORD\")\n",
    "POSTGRES_DB = os.getenv(\"POSTGRES_DB\")\n",
    "DB_PORT = os.getenv(\"DB_PORT\")\n",
    "DB_HOST = os.getenv(\"DB_HOST\")\n",
    "DATA_URL = os.getenv(\"DATA_URL\")\n",
    "\n",
    "# Environment variables specific to notebook\n",
    "DATA_DIR = os.path.dirname(root_dir) + '/data'\n",
    "DB_TABLE = \"permits_raw\""
   ]
  },
  {
   "cell_type": "code",
   "execution_count": 8,
   "metadata": {},
   "outputs": [
    {
     "name": "stdout",
     "output_type": "stream",
     "text": [
      "['Solarize_Light2', '_classic_test_patch', 'bmh', 'classic', 'dark_background', 'fast', 'fivethirtyeight', 'ggplot', 'grayscale', 'seaborn', 'seaborn-bright', 'seaborn-colorblind', 'seaborn-dark', 'seaborn-dark-palette', 'seaborn-darkgrid', 'seaborn-deep', 'seaborn-muted', 'seaborn-notebook', 'seaborn-paper', 'seaborn-pastel', 'seaborn-poster', 'seaborn-talk', 'seaborn-ticks', 'seaborn-white', 'seaborn-whitegrid', 'tableau-colorblind10']\n"
     ]
    }
   ],
   "source": [
    "# Available graph styles\n",
    "print(plt.style.available)"
   ]
  },
  {
   "cell_type": "code",
   "execution_count": 9,
   "metadata": {},
   "outputs": [
    {
     "name": "stdout",
     "output_type": "stream",
     "text": [
      "Connected as user \"postgres\" to database \"permits\" on http://localhost:5432.\n"
     ]
    }
   ],
   "source": [
    "# Connect to db\n",
    "conn = connect_db()\n",
    "\n",
    "# Extract partial dataset\n",
    "sql = 'SELECT * FROM {} LIMIT 500;'.format(DB_TABLE)\n",
    "\n",
    "# Columns to parse as dates\n",
    "date_columns = ['status_date', 'issue_date', 'license_expiration_date']\n",
    "\n",
    "# Fetch data\n",
    "data = fetch_data(sql, conn, parse_dates=date_columns)"
   ]
  },
  {
   "cell_type": "code",
   "execution_count": 11,
   "metadata": {},
   "outputs": [
    {
     "data": {
      "text/plain": [
       "assessor_book                                     object\n",
       "assessor_page                                     object\n",
       "assessor_parcel                                   object\n",
       "tract                                             object\n",
       "block                                             object\n",
       "lot                                               object\n",
       "reference_no_old_permit_no                        object\n",
       "pcis_permit_no                                    object\n",
       "status                                            object\n",
       "status_date                               datetime64[ns]\n",
       "permit_type                                       object\n",
       "permit_sub_type                                   object\n",
       "permit_category                                   object\n",
       "project_number                                    object\n",
       "event_code                                       float64\n",
       "initiating_office                                 object\n",
       "issue_date                                datetime64[ns]\n",
       "address_start                                     object\n",
       "address_fraction_start                            object\n",
       "address_end                                       object\n",
       "address_fraction_end                              object\n",
       "street_direction                                  object\n",
       "street_name                                       object\n",
       "street_suffix                                     object\n",
       "suffix_direction                                  object\n",
       "unit_range_start                                  object\n",
       "unit_range_end                                    object\n",
       "zip_code                                          object\n",
       "work_description                                  object\n",
       "valuation                                         object\n",
       "floor_area_la_zoning_code_definition              object\n",
       "no_of_residential_dwelling_units                  object\n",
       "no_of_accessory_dwelling_units                   float64\n",
       "no_of_stories                                     object\n",
       "contractors_business_name                         object\n",
       "contractor_address                                object\n",
       "contractor_city                                   object\n",
       "contractor_state                                  object\n",
       "license_type                                      object\n",
       "license_no                                        object\n",
       "principal_first_name                              object\n",
       "principal_middle_name                             object\n",
       "principal_last_name                               object\n",
       "license_expiration_date                   datetime64[ns]\n",
       "applicant_first_name                              object\n",
       "applicant_last_name                               object\n",
       "applicant_business_name                           object\n",
       "applicant_address_1                               object\n",
       "applicant_address_2                               object\n",
       "applicant_address_3                               object\n",
       "zone                                              object\n",
       "occupancy                                         object\n",
       "floor_area_la_building_code_definition            object\n",
       "census_tract                                      object\n",
       "council_district                                  object\n",
       "latitude_longitude                                object\n",
       "applicant_relationship                            object\n",
       "existing_code                                     object\n",
       "proposed_code                                     object\n",
       "full_address                                      object\n",
       "latitude                                          object\n",
       "longitude                                         object\n",
       "dtype: object"
      ]
     },
     "execution_count": 11,
     "metadata": {},
     "output_type": "execute_result"
    }
   ],
   "source": [
    "data.dtypes"
   ]
  },
  {
   "cell_type": "code",
   "execution_count": null,
   "metadata": {},
   "outputs": [],
   "source": []
  }
 ],
 "metadata": {
  "kernelspec": {
   "display_name": "Python 3",
   "language": "python",
   "name": "python3"
  },
  "language_info": {
   "codemirror_mode": {
    "name": "ipython",
    "version": 3
   },
   "file_extension": ".py",
   "mimetype": "text/x-python",
   "name": "python",
   "nbconvert_exporter": "python",
   "pygments_lexer": "ipython3",
   "version": "3.7.6"
  }
 },
 "nbformat": 4,
 "nbformat_minor": 4
}
