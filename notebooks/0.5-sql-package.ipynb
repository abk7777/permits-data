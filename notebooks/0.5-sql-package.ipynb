{
 "cells": [
  {
   "cell_type": "markdown",
   "metadata": {},
   "source": [
    "# SQL Package\n",
    "\n",
    "Provides simple functionality to interact with a PostgreSQL server using Python classes.\n",
    "\n",
    "**Overview of functionality:**\n",
    "* Database(self, user, password, host, dbname, port)\n",
    "    * properties\n",
    "        * user\n",
    "        * password\n",
    "        * host\n",
    "        * dbname\n",
    "        * port\n",
    "    * methods\n",
    "        * create(name) x\n",
    "        * connect()\n",
    "        * drop(name)\n",
    "* Table(self, dbname, table, schema)\n",
    "    * accepts db properties\n",
    "    * properties\n",
    "        * connect() --> inherited\n",
    "        * fetch_data(sql, con, parse_dates)\n",
    "        * get_names()\n",
    "        * format_names(char_dict)\n",
    "        * update_names(names_dict)\n",
    "        * add_columns(columns_list, type=None)\n",
    "        * compare_column_order(dataframe)\n",
    "        * match_columns(dataframe)\n",
    "        * save_csv(data, local_path, match_column_order=True)\n",
    "        * update_values(local_path, container_path)\n",
    "        * update_types(types_dict)\n",
    "        * close()"
   ]
  },
  {
   "cell_type": "markdown",
   "metadata": {},
   "source": [
    "## Setup"
   ]
  },
  {
   "cell_type": "code",
   "execution_count": 101,
   "metadata": {},
   "outputs": [],
   "source": [
    "import os\n",
    "import sys\n",
    "from pathlib import Path\n",
    "#sys.path[0] = str(Path(__file__).resolve().parents[2]) # Set path for custom modules\n",
    "\n",
    "# Set path for modules\n",
    "sys.path[0] = '../'\n",
    "\n",
    "from dotenv import load_dotenv, find_dotenv\n",
    "import numpy as np\n",
    "import pandas as pd\n",
    "\n",
    "# SQL libraries\n",
    "import psycopg2\n",
    "\n",
    "# Set notebook display options\n",
    "pd.set_option('display.max_rows', 2000)\n",
    "pd.set_option('display.max_columns', None)\n",
    "pd.set_option('display.width', None)"
   ]
  },
  {
   "cell_type": "code",
   "execution_count": 102,
   "metadata": {
    "scrolled": true
   },
   "outputs": [],
   "source": [
    "#sys.modules"
   ]
  },
  {
   "cell_type": "code",
   "execution_count": 325,
   "metadata": {},
   "outputs": [],
   "source": [
    "class Database():\n",
    "    \n",
    "    # if modulename not in sys.modules: print...\n",
    "    load_dotenv(find_dotenv());\n",
    "    \n",
    "    def __init__(self, user=None, password=None,\n",
    "                 dbname=None, host=None, port=None):\n",
    "        \n",
    "        # Loaded from .env if not explicit\n",
    "        self.user = user if user is not None else os.getenv(\"POSTGRES_USER\")\n",
    "        self.password = password if password is not None else os.getenv(\"POSTGRES_PASSWORD\")\n",
    "        self.dbname = dbname if dbname is not None else os.getenv(\"POSTGRES_DB\")\n",
    "        self.host = host if host is not None else os.getenv(\"DB_HOST\")\n",
    "        self.port = port if port is not None else os.getenv(\"DB_PORT\")\n",
    "        \n",
    "        \n",
    "        # Root directory\n",
    "        self._root_dir = os.path.dirname(os.getcwd())\n",
    "        #sys.path[0] = str(Path(__file__).resolve().parents[2])\n",
    "        \n",
    "    def _connect(self):\n",
    "\n",
    "        \"\"\"\n",
    "        Connects to PostgreSQL database using psycopg2 driver. Same\n",
    "        arguments as psycopg2.connect().\n",
    "\n",
    "        Params\n",
    "        --------\n",
    "        dbname\n",
    "        user\n",
    "        password\n",
    "        host\n",
    "        port\n",
    "        connect_timeout\n",
    "        \"\"\"\n",
    "\n",
    "        try:\n",
    "            con = psycopg2.connect(dbname=self.dbname,\n",
    "                                   user=self.user,\n",
    "                                   password=self.password,\n",
    "                                    host=self.host, \n",
    "                                    port=self.port,\n",
    "                                  connect_timeout=3)            \n",
    "\n",
    "        except Exception as e:\n",
    "            print('Error:\\n', e)\n",
    "            return None\n",
    "\n",
    "\n",
    "        return con        "
   ]
  },
  {
   "cell_type": "code",
   "execution_count": 323,
   "metadata": {},
   "outputs": [
    {
     "name": "stdout",
     "output_type": "stream",
     "text": [
      "Connected as user \"postgres\" to database \"permits\" on http://localhost:5432.\n"
     ]
    }
   ],
   "source": [
    "db = Database()"
   ]
  },
  {
   "cell_type": "code",
   "execution_count": 413,
   "metadata": {},
   "outputs": [],
   "source": [
    "class Table(Database):\n",
    "    def __init__(self, user=None, password=None, dbname=None, host=None, port=None, table=None):\n",
    "        super().__init__(user, password, dbname, host, port)\n",
    "        \n",
    "        self.table = table\n",
    "        \n",
    "        # Loaded from .env if not explicit\n",
    "        self.user = user if user is not None else os.getenv(\"POSTGRES_USER\")\n",
    "        self.password = password if password is not None else os.getenv(\"POSTGRES_PASSWORD\")\n",
    "        self.dbname = dbname if dbname is not None else os.getenv(\"POSTGRES_DB\")\n",
    "        self.host = host if host is not None else os.getenv(\"DB_HOST\")\n",
    "        self.port = port if port is not None else os.getenv(\"DB_PORT\")\n",
    "    \n",
    "    # Connect to database\n",
    "    def _connect(self):\n",
    "        return super(Table, self)._connect()\n",
    "    \n",
    "    # Fetch data from sql query\n",
    "    def fetch_data(self, sql, coerce_float=False, parse_dates=None):\n",
    "        \n",
    "        con = self._connect()\n",
    "        \n",
    "        # Fetch fresh data\n",
    "        data = pd.read_sql_query(sql=sql, con=con, coerce_float=coerce_float, parse_dates=parse_dates)\n",
    "\n",
    "        # Replace None with np.nan\n",
    "        data.fillna(np.nan, inplace=True)\n",
    "        \n",
    "        # Close db connection\n",
    "        con.close()\n",
    "\n",
    "        return data\n",
    "    \n",
    "    # Get names of column\n",
    "    def get_names(self):\n",
    "        \n",
    "        con = self._connect()\n",
    "        \n",
    "        # Specific query to retrieve table names\n",
    "        sql = \"SELECT * FROM INFORMATION_SCHEMA.COLUMNS WHERE TABLE_NAME = N'{}'\".format(self.table)\n",
    "        etl = pd.read_sql_query(sql, con)\n",
    "        columns = etl['column_name']\n",
    "        \n",
    "        con.close()\n",
    "    \n",
    "        return columns\n",
    "\n",
    "    # Standardize column names using dictionary of character replacements\n",
    "    def reformat_names(self, replace_map):\n",
    "        \n",
    "        series = self.get_names()\n",
    "        \n",
    "        def replace_chars(text):\n",
    "            for oldchar, newchar in replace_map.items():\n",
    "                text = text.replace(oldchar, newchar).lower()\n",
    "            return text\n",
    "        \n",
    "        return series.apply(replace_chars)\n",
    "    \n",
    "    # Update column names in db table\n",
    "    def update_names(self, replace_map):\n",
    "        \n",
    "        old_columns = self.get_names()\n",
    "        \n",
    "        new_columns = self.reformat_names(replace_map)\n",
    "        \n",
    "        con = self._connect()\n",
    "    \n",
    "        sql = 'ALTER TABLE {} '.format(self.table) + 'RENAME \"{old_name}\" to {new_name};'\n",
    "\n",
    "        sql_query = []\n",
    "\n",
    "        for idx, name in old_columns.iteritems():\n",
    "            sql_query.append(sql.format(old_name=name, new_name=new_columns[idx]))\n",
    "\n",
    "        sql_query = '\\n'.join(sql_query)\n",
    "\n",
    "        try:\n",
    "            cur = con.cursor()\n",
    "            print(\"Reading...\")\n",
    "            print('Executing update query on table \"{}\"...'.format(self.table))\n",
    "            cur.execute(sql_query)\n",
    "            con.commit()\n",
    "            cur.close()\n",
    "            print(\"Table is updated.\")\n",
    "        except Exception as e:\n",
    "            con.rollback()\n",
    "            print('Error:\\n', e)\n",
    "        finally:\n",
    "            if con is not None:\n",
    "                con.close()\n",
    "                \n",
    "    # Add new columns to database\n",
    "    def add_columns(self, data):\n",
    "        \n",
    "        con = self._connect()\n",
    "\n",
    "        # Get names of current columns in PostgreSQL table\n",
    "        current_names = self.get_names()\n",
    "\n",
    "        # Get names of updated table not in current table\n",
    "        updated_names = data.columns.tolist()\n",
    "        new_names = list(set(updated_names) - set(current_names))\n",
    "\n",
    "        # Check names list is not empty\n",
    "        if not new_names:\n",
    "            print(\"Table is already up to date.\")\n",
    "            return\n",
    "\n",
    "        # Format strings for query\n",
    "        alter_table_sql = \"ALTER TABLE {db_table}\\n\"\n",
    "        add_column_sql = \"\\tADD COLUMN {column} TEXT,\\n\"\n",
    "\n",
    "        # Create a list and append ADD column statements\n",
    "        sql_query = [alter_table_sql.format(db_table=self.table)]\n",
    "        for name in new_names:\n",
    "            sql_query.append(add_column_sql.format(column=name))\n",
    "\n",
    "        # Join into one string\n",
    "        sql_query = ''.join(sql_query)[:-2] + \";\"\n",
    "\n",
    "        if run:\n",
    "            ### ADD TRY/EXCEPT TO RUN QUERY AGAINST DB\n",
    "            try:\n",
    "                print(\"Connecting...\")\n",
    "                cur = con.cursor()\n",
    "                print(\"Executing query...\")\n",
    "                cur.execute(sql_query)\n",
    "                print(\"Committing changes...\")\n",
    "                con.commit()\n",
    "                cur.close()\n",
    "                print(\"Database updated successfully:\\nAdd columns {}\".format(', '.join(new_names)))\n",
    "            except Exception as e:\n",
    "                conn.rollback()\n",
    "                print('Error:\\n', e)\n",
    "            finally:\n",
    "                if con is not None:\n",
    "                    con.close()\n",
    "\n",
    "    # Compare order of columns in dataframe against order of columns in database                \n",
    "    def compare_column_order(self, data, match_db_order=False):\n",
    "        \n",
    "        con = self._connect()\n",
    "\n",
    "        db_columns = self.get_names().tolist()\n",
    "        data_columns = data.columns.tolist()\n",
    "\n",
    "        if match_db_order:\n",
    "            columns_reordered = self.get_names().tolist()\n",
    "            data = data[columns_reordered]\n",
    "            return data\n",
    "\n",
    "        if set(db_columns) == set(data_columns):\n",
    "            str1 = 'Dataframe columns match table \"{}\" '.format(self.table)\n",
    "            if db_columns == data_columns:\n",
    "                print(str1 + 'and are in the same order.'.format(self.table))\n",
    "                if not match_db_order:\n",
    "                    return True\n",
    "                else:\n",
    "                    return data\n",
    "            else:\n",
    "                print('but are not in the same order.'.format(self.table))\n",
    "                return False\n",
    "\n",
    "        elif len(set(db_columns)) > len(set(data_columns)):\n",
    "            print('Current dataframe has less columns than table \"{}\":\\n'.format(self.table), \n",
    "                                            list(set(db_columns) - set(data_columns)))\n",
    "            return False\n",
    "        else:\n",
    "            print('Current dataframe has more columns than table \"{}\":\\n'.format(self.table), \n",
    "                                            list(set(data_columns) - set(db_columns)))\n",
    "            return False"
   ]
  },
  {
   "cell_type": "code",
   "execution_count": 416,
   "metadata": {},
   "outputs": [],
   "source": [
    "permits = Table(table=\"permits_raw\")\n",
    "data = permits.fetch_data(sql=\"SELECT * FROM permits_raw LIMIT 10;\")"
   ]
  },
  {
   "cell_type": "code",
   "execution_count": 408,
   "metadata": {},
   "outputs": [
    {
     "data": {
      "text/plain": [
       "0      assessor_book\n",
       "1      assessor_page\n",
       "2    assessor_parcel\n",
       "Name: column_name, dtype: object"
      ]
     },
     "execution_count": 408,
     "metadata": {},
     "output_type": "execute_result"
    }
   ],
   "source": [
    "permits.get_names()[:3]"
   ]
  },
  {
   "cell_type": "code",
   "execution_count": 409,
   "metadata": {},
   "outputs": [
    {
     "data": {
      "text/plain": [
       "0      assessor_book\n",
       "1      assessor_page\n",
       "2    assessor_parcel\n",
       "Name: column_name, dtype: object"
      ]
     },
     "execution_count": 409,
     "metadata": {},
     "output_type": "execute_result"
    }
   ],
   "source": [
    "# Map of character replacements\n",
    "replace_map = {' ': '_', '-': '_', '#': 'No', '/': '_', \n",
    "               '.': '', '(': '', ')': '', \"'\": ''}\n",
    "\n",
    "permits.reformat_names(replace_map)[:3]"
   ]
  },
  {
   "cell_type": "code",
   "execution_count": 422,
   "metadata": {},
   "outputs": [
    {
     "name": "stdout",
     "output_type": "stream",
     "text": [
      "Reading...\n",
      "Executing update query on table \"permits_raw\"...\n",
      "Error:\n",
      " column \"assessor_book\" of relation \"permits_raw\" already exists\n",
      "\n"
     ]
    }
   ],
   "source": [
    "permits.update_names(replace_map)"
   ]
  },
  {
   "cell_type": "code",
   "execution_count": 423,
   "metadata": {},
   "outputs": [
    {
     "name": "stdout",
     "output_type": "stream",
     "text": [
      "Table is already up to date.\n"
     ]
    }
   ],
   "source": [
    "permits.add_columns(data)"
   ]
  },
  {
   "cell_type": "code",
   "execution_count": 424,
   "metadata": {},
   "outputs": [
    {
     "name": "stdout",
     "output_type": "stream",
     "text": [
      "Dataframe columns match table \"permits_raw\" and are in the same order.\n"
     ]
    },
    {
     "data": {
      "text/plain": [
       "True"
      ]
     },
     "execution_count": 424,
     "metadata": {},
     "output_type": "execute_result"
    }
   ],
   "source": [
    "permits.compare_column_order(data)"
   ]
  },
  {
   "cell_type": "code",
   "execution_count": null,
   "metadata": {},
   "outputs": [],
   "source": []
  }
 ],
 "metadata": {
  "kernelspec": {
   "display_name": "Python 3",
   "language": "python",
   "name": "python3"
  },
  "language_info": {
   "codemirror_mode": {
    "name": "ipython",
    "version": 3
   },
   "file_extension": ".py",
   "mimetype": "text/x-python",
   "name": "python",
   "nbconvert_exporter": "python",
   "pygments_lexer": "ipython3",
   "version": "3.7.6"
  }
 },
 "nbformat": 4,
 "nbformat_minor": 4
}
